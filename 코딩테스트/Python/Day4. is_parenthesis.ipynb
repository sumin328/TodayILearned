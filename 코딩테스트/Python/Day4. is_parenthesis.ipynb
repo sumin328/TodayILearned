{
 "cells": [
  {
   "cell_type": "markdown",
   "metadata": {},
   "source": [
    "\n",
    "# Day4. is_parenthesis\n",
    "지난주에 stack에 대해 살펴봤습니다. 문제에 따라 적절한 자료구조나 알고리즘을 떠올리는 것이 문제 해결의 핵심인 경우가 많고 이 문제의 가장 적절한 해결방법은 stack을 이용하는 것입니다. 한 번 같이 해봐요!\n",
    "\n",
    "\n",
    "문제: 괄호식을 입력받아 이 괄호식이 옳은 형태의 괄호식인지 검증하라\n",
    "\n",
    ":입력: str | (){}[]을 사용한 문자열. 길이는 0 이상. (ex: (}(])\n",
    ":출력: bool | 입력 문자열이 올바른 괄호인지 아닌지의 여부. (ex: False)\n",
    ":조건:\n",
    "\n",
    "입력에는 (){}[] 이외의 그 어떤 글자도 들어오지 않는다."
   ]
  },
  {
   "cell_type": "code",
   "execution_count": 2,
   "metadata": {},
   "outputs": [],
   "source": [
    "def is_parenthesis(parenthesis):\n",
    "    opener = '('\n",
    "    closer = ')'\n",
    "    counter = 0\n",
    "    \n",
    "    for i in parenthesis : \n",
    "        if i == opener :\n",
    "            counter += 1\n",
    "        else :\n",
    "            counter -= 1\n",
    "        if counter < 0 :\n",
    "            return False\n",
    "    return counter == 0"
   ]
  },
  {
   "cell_type": "code",
   "execution_count": 3,
   "metadata": {},
   "outputs": [
    {
     "data": {
      "text/plain": [
       "True"
      ]
     },
     "execution_count": 3,
     "metadata": {},
     "output_type": "execute_result"
    }
   ],
   "source": [
    "is_parenthesis('()')"
   ]
  },
  {
   "cell_type": "code",
   "execution_count": 4,
   "metadata": {},
   "outputs": [
    {
     "data": {
      "text/plain": [
       "True"
      ]
     },
     "execution_count": 4,
     "metadata": {},
     "output_type": "execute_result"
    }
   ],
   "source": [
    "is_parenthesis('(())')"
   ]
  },
  {
   "cell_type": "code",
   "execution_count": 5,
   "metadata": {},
   "outputs": [
    {
     "data": {
      "text/plain": [
       "False"
      ]
     },
     "execution_count": 5,
     "metadata": {},
     "output_type": "execute_result"
    }
   ],
   "source": [
    "is_parenthesis('((())')"
   ]
  },
  {
   "cell_type": "code",
   "execution_count": 10,
   "metadata": {},
   "outputs": [],
   "source": [
    "def is_parenthesis(parenthesis):\n",
    "    OPENER = '({['\n",
    "    CLOSER = ')}]'\n",
    "    MAPS = {'}': '{', \n",
    "            ')': '(',\n",
    "            ']': '['}\n",
    "    stack = []\n",
    "    \n",
    "    for p in stack:\n",
    "        if p in OPENER:\n",
    "            stack.append[p]\n",
    "        else:\n",
    "            if not stack or stack.pop() != maps[p]:\n",
    "                return False\n",
    "            \n",
    "    return not stack\n",
    "    \n",
    " # opener, close의 짝을 맞추는 방법을 모르겠다ㅠㅠㅠㅠㅠㅠㅠㅠㅠㅠㅠㅠㅠㅜㅜㅜㅜ"
   ]
  },
  {
   "cell_type": "code",
   "execution_count": 11,
   "metadata": {},
   "outputs": [
    {
     "data": {
      "text/plain": [
       "True"
      ]
     },
     "execution_count": 11,
     "metadata": {},
     "output_type": "execute_result"
    }
   ],
   "source": [
    "is_parenthesis('({})')"
   ]
  },
  {
   "cell_type": "code",
   "execution_count": 12,
   "metadata": {},
   "outputs": [
    {
     "data": {
      "text/plain": [
       "True"
      ]
     },
     "execution_count": 12,
     "metadata": {},
     "output_type": "execute_result"
    }
   ],
   "source": [
    "is_parenthesis('[]')"
   ]
  },
  {
   "cell_type": "code",
   "execution_count": 13,
   "metadata": {},
   "outputs": [
    {
     "data": {
      "text/plain": [
       "True"
      ]
     },
     "execution_count": 13,
     "metadata": {},
     "output_type": "execute_result"
    }
   ],
   "source": [
    "is_parenthesis('[)')"
   ]
  },
  {
   "cell_type": "markdown",
   "metadata": {},
   "source": [
    "## 보민님 풀이"
   ]
  },
  {
   "cell_type": "code",
   "execution_count": 20,
   "metadata": {},
   "outputs": [],
   "source": [
    "def check_parenthesis_pairs(ps):\n",
    "    for_count = []\n",
    "    open_ps = '({['\n",
    "    close_ps = ')}]'\n",
    "\n",
    "    for p in list(ps):\n",
    "        if p in open_ps:\n",
    "            print(p in open_ps)\n",
    "            for_count.append(p)\n",
    "        else:\n",
    "            if len(for_count) == 0:\n",
    "                return False\n",
    "            else:\n",
    "                last_open_p = for_count.pop()\n",
    "                if last_open_p != open_ps[close_ps.index(p)]:\n",
    "                    return False\n",
    "\n",
    "    return len(for_count) == 0"
   ]
  },
  {
   "cell_type": "code",
   "execution_count": 21,
   "metadata": {},
   "outputs": [
    {
     "name": "stdout",
     "output_type": "stream",
     "text": [
      "True\n",
      "True\n"
     ]
    }
   ],
   "source": [
    "print(check_parenthesis_pairs('()'))"
   ]
  },
  {
   "cell_type": "code",
   "execution_count": 24,
   "metadata": {},
   "outputs": [
    {
     "name": "stdout",
     "output_type": "stream",
     "text": [
      "True\n",
      "False\n"
     ]
    }
   ],
   "source": [
    "print(check_parenthesis_pairs('(}}'))"
   ]
  },
  {
   "cell_type": "code",
   "execution_count": 23,
   "metadata": {},
   "outputs": [
    {
     "name": "stdout",
     "output_type": "stream",
     "text": [
      "True\n",
      "True\n",
      "True\n",
      "True\n"
     ]
    }
   ],
   "source": [
    "print(check_parenthesis_pairs('{{[]}}'))"
   ]
  },
  {
   "cell_type": "code",
   "execution_count": 25,
   "metadata": {},
   "outputs": [
    {
     "name": "stdout",
     "output_type": "stream",
     "text": [
      "True\n",
      "True\n",
      "True\n",
      "True\n",
      "False\n"
     ]
    }
   ],
   "source": [
    "print(check_parenthesis_pairs('{{[(]}}'))"
   ]
  },
  {
   "cell_type": "markdown",
   "metadata": {},
   "source": [
    "## 성환님 풀이"
   ]
  },
  {
   "cell_type": "code",
   "execution_count": 6,
   "metadata": {},
   "outputs": [],
   "source": [
    "def is_right_parenthesis(parens):\n",
    "    OPENERS = '([{'\n",
    "    CLOSERS = ')]}'\n",
    "    MAP = dict(zip(CLOSERS, OPENERS)) # {  ')': '(', ']': '[', '}': '{'  } 와 동일\n",
    "    stack = []\n",
    "    \n",
    "    for p in parens:\n",
    "        if p in OPENERS:\n",
    "            stack.append(p)\n",
    "        else:\n",
    "            if not stack: # stack이 비었을 경우 -> 닫는 괄호가 먼저 나온 것이므로 False\n",
    "                return False\n",
    "            opener = stack.pop() # 가장 마지막으로 추가된 opener와 비교\n",
    "            if opener != MAP[p]: # 가장 마지막으로 추가된 opener와 짝이 아닌 경우 False\n",
    "                return False\n",
    "\n",
    "    return not stack"
   ]
  },
  {
   "cell_type": "code",
   "execution_count": 13,
   "metadata": {},
   "outputs": [
    {
     "name": "stdout",
     "output_type": "stream",
     "text": [
      "True\n",
      "False\n",
      "True\n",
      "True\n"
     ]
    }
   ],
   "source": [
    "print(is_right_parenthesis('{[[()]]}'))\n",
    "print(is_right_parenthesis('{{[]}'))\n",
    "print(is_right_parenthesis('{}[]'))\n",
    "print(is_right_parenthesis('()[]{()}'))"
   ]
  }
 ],
 "metadata": {
  "kernelspec": {
   "display_name": "Python 3",
   "language": "python",
   "name": "python3"
  },
  "language_info": {
   "codemirror_mode": {
    "name": "ipython",
    "version": 3
   },
   "file_extension": ".py",
   "mimetype": "text/x-python",
   "name": "python",
   "nbconvert_exporter": "python",
   "pygments_lexer": "ipython3",
   "version": "3.7.3"
  }
 },
 "nbformat": 4,
 "nbformat_minor": 2
}
