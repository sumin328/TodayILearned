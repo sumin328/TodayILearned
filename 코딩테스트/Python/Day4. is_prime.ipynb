{
 "cells": [
  {
   "cell_type": "markdown",
   "metadata": {},
   "source": [
    "# Day4. is_prime\n",
    "아시다시피 소수(prime number)는 1과 자기 자신 이외에 약수를 갖지 않는 양의 정수를 말합니다. 소수와 관련한 문제는 알고리즘을 풀게 되면 반드시 마주치게 되어 있습니다. 특히 가장 간단한 판별방법은 알고리즘을 공부하는 초반에 반드시 한 번 다루고 넘어갑니다. 우리도 예외일 수는 없을 것 같아요.\n",
    "\n",
    "\n",
    "문제: 입력 받은 숫자가 소수인지 판단하라\n",
    "\n",
    ":입력: int | 판단할 정수. 크기는 1 이상, 10000 이하\n",
    ":출력: bool | 입력 받은 정수가 소수인지의 여부\n",
    ":조건:\n",
    "\n",
    "1은 원칙상 소수가 아닙니다. 참고하세요!"
   ]
  },
  {
   "cell_type": "code",
   "execution_count": 16,
   "metadata": {},
   "outputs": [],
   "source": [
    "def is_prime(N):\n",
    "    if N == 1 :\n",
    "        return False\n",
    "    elif N % 2 == 0:\n",
    "        return False\n",
    "    \n",
    "    for i in range(2, N):\n",
    "        if N % i == 0 :\n",
    "            return False\n",
    "        \n",
    "    return True"
   ]
  },
  {
   "cell_type": "code",
   "execution_count": 17,
   "metadata": {},
   "outputs": [
    {
     "name": "stdout",
     "output_type": "stream",
     "text": [
      "False\n",
      "True\n",
      "True\n",
      "False\n"
     ]
    }
   ],
   "source": [
    "print(is_prime(1)) #소수가 아님\n",
    "print(is_prime(3)) #소수\n",
    "print(is_prime(11)) #소수\n",
    "print(is_prime(15)) #소수가 아님"
   ]
  },
  {
   "cell_type": "markdown",
   "metadata": {},
   "source": [
    "* N까지 반복문을 돌리는 것보다 제곱근까지만 돌리는 것이 더 효율적임"
   ]
  },
  {
   "cell_type": "markdown",
   "metadata": {},
   "source": [
    "## 성보님 풀이 - 틀린 이유?"
   ]
  },
  {
   "cell_type": "code",
   "execution_count": 20,
   "metadata": {},
   "outputs": [],
   "source": [
    "import math \n",
    "\n",
    "def is_prime(N):\n",
    "    if N == 1:\n",
    "        return False\n",
    "\n",
    "    for n in range(2, int(math.sqrt(N))):\n",
    "        if N % n == 0:\n",
    "            return False\n",
    "    return True "
   ]
  },
  {
   "cell_type": "code",
   "execution_count": 21,
   "metadata": {},
   "outputs": [
    {
     "name": "stdout",
     "output_type": "stream",
     "text": [
      "False\n",
      "True\n",
      "True\n",
      "True\n"
     ]
    }
   ],
   "source": [
    "print(is_prime(1)) #소수가 아님\n",
    "print(is_prime(3)) #소수\n",
    "print(is_prime(11)) #소수\n",
    "print(is_prime(15)) #소수가 아님"
   ]
  },
  {
   "cell_type": "code",
   "execution_count": 1,
   "metadata": {},
   "outputs": [
    {
     "ename": "NameError",
     "evalue": "name 'math' is not defined",
     "output_type": "error",
     "traceback": [
      "\u001b[0;31m---------------------------------------------------------------------------\u001b[0m",
      "\u001b[0;31mNameError\u001b[0m                                 Traceback (most recent call last)",
      "\u001b[0;32m<ipython-input-1-bc0ff5a63804>\u001b[0m in \u001b[0;36m<module>\u001b[0;34m\u001b[0m\n\u001b[0;32m----> 1\u001b[0;31m \u001b[0mrange\u001b[0m\u001b[0;34m(\u001b[0m\u001b[0;36m2\u001b[0m\u001b[0;34m,\u001b[0m \u001b[0mmath\u001b[0m\u001b[0;34m.\u001b[0m\u001b[0msqrt\u001b[0m\u001b[0;34m(\u001b[0m\u001b[0;36m15\u001b[0m\u001b[0;34m)\u001b[0m\u001b[0;34m)\u001b[0m\u001b[0;34m\u001b[0m\u001b[0;34m\u001b[0m\u001b[0m\n\u001b[0m",
      "\u001b[0;31mNameError\u001b[0m: name 'math' is not defined"
     ]
    }
   ],
   "source": [
    "range(2, math.sqrt(15))"
   ]
  },
  {
   "cell_type": "markdown",
   "metadata": {},
   "source": [
    "* range(2, int(math.sqrt(n)) -> range(2, math.sqrt(n)+1)  \n",
    " - range(a, b)는 a부터 b-1까지 수를 반환해주니까 math.sqrt(n) <b>+ 1</b>을 해줘야하고  \n",
    " - range자체가 정수만 반환하니까 <b>int 는 안 써줘도 됨</b>"
   ]
  },
  {
   "cell_type": "markdown",
   "metadata": {},
   "source": [
    "## 성환님 풀이"
   ]
  },
  {
   "cell_type": "code",
   "execution_count": 26,
   "metadata": {},
   "outputs": [],
   "source": [
    "def is_prime(n):\n",
    "    if n == 1:\n",
    "        return False\n",
    "    elif n == 2:\n",
    "        return True\n",
    "    elif n % 2 == 0:\n",
    "        return False\n",
    "    else:\n",
    "        sqrt_n = int(n ** (1/2))\n",
    "        for d in range(3, sqrt_n+1, 2):  # 이 range식이 이해가 되시나요?\n",
    "            if n % d == 0:\n",
    "                return False\n",
    "        return True"
   ]
  },
  {
   "cell_type": "markdown",
   "metadata": {},
   "source": [
    "* 성능을 더 올릴 수 있는 방법  \n",
    "코드는 이해가는데 이게 왜 성능을 올릴 수 있는 것인지 모르겠음\n",
    "* 재계산을 하기때문에 시간이 걸리지만 공간을 많이 사용하지 않음 => 체..?\n"
   ]
  },
  {
   "cell_type": "code",
   "execution_count": null,
   "metadata": {},
   "outputs": [],
   "source": []
  }
 ],
 "metadata": {
  "kernelspec": {
   "display_name": "Python 3",
   "language": "python",
   "name": "python3"
  },
  "language_info": {
   "codemirror_mode": {
    "name": "ipython",
    "version": 3
   },
   "file_extension": ".py",
   "mimetype": "text/x-python",
   "name": "python",
   "nbconvert_exporter": "python",
   "pygments_lexer": "ipython3",
   "version": "3.7.3"
  }
 },
 "nbformat": 4,
 "nbformat_minor": 2
}
