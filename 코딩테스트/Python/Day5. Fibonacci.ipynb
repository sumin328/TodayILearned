{
 "cells": [
  {
   "cell_type": "markdown",
   "metadata": {},
   "source": [
    "## 2. fibonacci, I'm gonna watch\n",
    "이 문제는 알고리즘의 영역이지만 한 번 풀어봐도 괜찮을 것 같아요. fibonacci(이하 \"피보나치\") 수열이라고 들어보셨나요? 해당 수가 이전 두 수의 합이 되는 수열로 알고리즘에서는 매우매우 유명한 문제이지요! 이미지로 확인해보실래요?\n",
    "\n",
    "fibonacci sequence\n",
    "\n",
    "우리는 0번째는 0, 1번째는 1, 2번째부터는 이전 두 수의 합으로 이 수열을 정의하겠습니다.\n",
    "\n",
    "\n",
    "문제: 0 이상의 정수 nth이 주어질 때, nth번째 피보나치 수를 반환하는 함수를 만들어라.\n",
    "\n",
    ":입력: nth | int := 0 이상, 1000 이하의 정수\n",
    ":출력: int := nth번째 피보나치 수. 입력이 0일 때는 0, 1일 때는 1, 그외에는 이전 두 피보나치 수의 합\n",
    ":조건:"
   ]
  },
  {
   "cell_type": "code",
   "execution_count": 11,
   "metadata": {},
   "outputs": [],
   "source": [
    "def fibonacci(N):\n",
    "    a = 0\n",
    "    b = 1\n",
    "    c = a+b\n",
    "    \n",
    "    if N == 0:\n",
    "        return a\n",
    "    elif N == 1:\n",
    "        return b\n",
    "    for i in range(2, N+1):\n",
    "        c = a + b\n",
    "        a = b\n",
    "        b = c \n",
    "    return c\n"
   ]
  },
  {
   "cell_type": "code",
   "execution_count": 20,
   "metadata": {},
   "outputs": [
    {
     "name": "stdout",
     "output_type": "stream",
     "text": [
      "0\n",
      "1\n",
      "2\n",
      "5\n",
      "377\n"
     ]
    }
   ],
   "source": [
    "print(fibonacci(0))\n",
    "print(fibonacci(1))\n",
    "print(fibonacci(3))\n",
    "print(fibonacci(5))\n",
    "print(fibonacci(14))"
   ]
  }
 ],
 "metadata": {
  "kernelspec": {
   "display_name": "Python 3",
   "language": "python",
   "name": "python3"
  },
  "language_info": {
   "codemirror_mode": {
    "name": "ipython",
    "version": 3
   },
   "file_extension": ".py",
   "mimetype": "text/x-python",
   "name": "python",
   "nbconvert_exporter": "python",
   "pygments_lexer": "ipython3",
   "version": "3.7.3"
  }
 },
 "nbformat": 4,
 "nbformat_minor": 2
}
