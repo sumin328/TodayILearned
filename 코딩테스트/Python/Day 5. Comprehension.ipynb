{
 "cells": [
  {
   "cell_type": "markdown",
   "metadata": {},
   "source": [
    "# 1. comprehension 가지고 놀기\n",
    "지난주에 list comprehension에 대해 배우시는 것을 봤습니다. comprehension 문법은 파이썬에 있는 독특한 문법으로, 복잡한 과정 없이 쉽게 자료형을 만들어주는 매우 고마운 문법입니다. 저는 개인적으로 list comphrehension 문법이 흥미로워서 파이썬에 빠져 공부했습니다.\n",
    "\n",
    "comprehension으로 리스트뿐 아니라 tuple, set 같은 다른 자료형도 만들어 볼 수 있습니다. 이것을 활용해서 까다로울 수 있는 자료형태를 만들어봅시다.\n",
    "\n",
    "\n",
    "문제: dict를 만들되, key는 'a'부터 'z', value는 1부터 26까지가 되도록 하라.\n",
    "\n",
    ":입력:\n",
    ":출력: dict | 26개의 쌍을 갖는 dict( {'a': 1, 'b': 2, 'c': 3, ..., 'y': 25, 'z': 26} )\n",
    ":조건:\n",
    "\n",
    "이 dict를 어떻게 구현해도 상관없으나, 가급적 쉽게 만들어보실래요? 가능하다면, dict comprehension을 써주시면 좋겠습니다."
   ]
  },
  {
   "cell_type": "markdown",
   "metadata": {},
   "source": [
    "## 1. Comprehension 사용 X"
   ]
  },
  {
   "cell_type": "code",
   "execution_count": 16,
   "metadata": {},
   "outputs": [
    {
     "data": {
      "text/plain": [
       "{'a': 1,\n",
       " 'b': 2,\n",
       " 'c': 3,\n",
       " 'd': 4,\n",
       " 'e': 5,\n",
       " 'f': 6,\n",
       " 'g': 7,\n",
       " 'h': 8,\n",
       " 'i': 9,\n",
       " 'j': 10,\n",
       " 'k': 11,\n",
       " 'l': 12,\n",
       " 'm': 13,\n",
       " 'n': 14,\n",
       " 'o': 15,\n",
       " 'p': 16,\n",
       " 'q': 17,\n",
       " 'r': 18,\n",
       " 's': 19,\n",
       " 't': 20,\n",
       " 'u': 21,\n",
       " 'v': 22,\n",
       " 'w': 23,\n",
       " 'x': 24,\n",
       " 'y': 25,\n",
       " 'z': 26}"
      ]
     },
     "execution_count": 16,
     "metadata": {},
     "output_type": "execute_result"
    }
   ],
   "source": [
    "from string import ascii_lowercase as LOWERS\n",
    "\n",
    "maps = {}\n",
    "for c, n in zip(LOWERS, range(1, len(LOWERS)+1)):\n",
    "    maps[c] = n\n",
    "    \n",
    "maps"
   ]
  },
  {
   "cell_type": "markdown",
   "metadata": {},
   "source": [
    "## 2. Comprehension 사용"
   ]
  },
  {
   "cell_type": "code",
   "execution_count": 17,
   "metadata": {},
   "outputs": [
    {
     "data": {
      "text/plain": [
       "{'a': 1,\n",
       " 'b': 2,\n",
       " 'c': 3,\n",
       " 'd': 4,\n",
       " 'e': 5,\n",
       " 'f': 6,\n",
       " 'g': 7,\n",
       " 'h': 8,\n",
       " 'i': 9,\n",
       " 'j': 10,\n",
       " 'k': 11,\n",
       " 'l': 12,\n",
       " 'm': 13,\n",
       " 'n': 14,\n",
       " 'o': 15,\n",
       " 'p': 16,\n",
       " 'q': 17,\n",
       " 'r': 18,\n",
       " 's': 19,\n",
       " 't': 20,\n",
       " 'u': 21,\n",
       " 'v': 22,\n",
       " 'w': 23,\n",
       " 'x': 24,\n",
       " 'y': 25,\n",
       " 'z': 26}"
      ]
     },
     "execution_count": 17,
     "metadata": {},
     "output_type": "execute_result"
    }
   ],
   "source": [
    "from string import ascii_lowercase as LOWERS\n",
    "\n",
    "maps = {c: n for c, n in zip(LOWERS, range(1, len(LOWERS)+1))}\n",
    "\n",
    "maps"
   ]
  },
  {
   "cell_type": "code",
   "execution_count": null,
   "metadata": {},
   "outputs": [],
   "source": []
  }
 ],
 "metadata": {
  "kernelspec": {
   "display_name": "Python 3",
   "language": "python",
   "name": "python3"
  },
  "language_info": {
   "codemirror_mode": {
    "name": "ipython",
    "version": 3
   },
   "file_extension": ".py",
   "mimetype": "text/x-python",
   "name": "python",
   "nbconvert_exporter": "python",
   "pygments_lexer": "ipython3",
   "version": "3.7.3"
  }
 },
 "nbformat": 4,
 "nbformat_minor": 2
}
