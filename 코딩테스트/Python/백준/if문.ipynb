{
 "cells": [
  {
   "cell_type": "code",
   "execution_count": 6,
   "metadata": {},
   "outputs": [
    {
     "name": "stdout",
     "output_type": "stream",
     "text": [
      "10 7\n",
      ">\n"
     ]
    }
   ],
   "source": [
    "# 1330번 두 수 비교하기\n",
    "a,b = input().split()\n",
    "a = int(a)\n",
    "b = int(b)\n",
    "if a > b :\n",
    "    print('>')\n",
    "elif a == b :\n",
    "    print('==')\n",
    "else :\n",
    "    print('<')"
   ]
  },
  {
   "cell_type": "code",
   "execution_count": 9,
   "metadata": {},
   "outputs": [
    {
     "name": "stdout",
     "output_type": "stream",
     "text": [
      "68\n",
      "D\n"
     ]
    }
   ],
   "source": [
    "# 9498 시험 성적\n",
    "# 시험 점수를 입력받아 90 ~ 100점은 A, 80 ~ 89점은 B, 70 ~ 79점은 C, 60 ~ 69점은 D, 나머지 점수는 F를 출력하는 프로그램을 작성하시오.\n",
    "score = int(input())\n",
    "if 100 >= score >= 90:\n",
    "    print('A')\n",
    "elif 89 >= score >= 80:\n",
    "    print('B')\n",
    "elif 79 >= score >= 70:\n",
    "    print('C')\n",
    "elif 69 >= score >= 60:\n",
    "    print('D')\n",
    "else :\n",
    "    print('F')"
   ]
  },
  {
   "cell_type": "code",
   "execution_count": 20,
   "metadata": {},
   "outputs": [
    {
     "name": "stdout",
     "output_type": "stream",
     "text": [
      "2000\n",
      "1\n"
     ]
    }
   ],
   "source": [
    "# 2752 윤년\n",
    "year = int(input())\n",
    "if year%4 == 0 and year%100 != 0 :\n",
    "    print(1)\n",
    "elif year%400 == 0:\n",
    "    print(1)\n",
    "else:\n",
    "    print(0)"
   ]
  },
  {
   "cell_type": "code",
   "execution_count": 33,
   "metadata": {},
   "outputs": [
    {
     "name": "stdout",
     "output_type": "stream",
     "text": [
      "0 40\n",
      "23 55\n"
     ]
    }
   ],
   "source": [
    "# 2884 알람 시계\n",
    "hour, minute = input().split()\n",
    "hour = int(hour)\n",
    "minute = int(minute)\n",
    "if hour == 0 and minute < 45 :\n",
    "    hour = 23\n",
    "    minute = 15 + minute\n",
    "    print(hour, minute)\n",
    "else : \n",
    "    if minute >= 45:\n",
    "        minute -= 45\n",
    "        print(hour,minute)\n",
    "    else :\n",
    "        minute = 15 + minute\n",
    "        hour -= 1\n",
    "        print(hour, minute)\n"
   ]
  },
  {
   "cell_type": "code",
   "execution_count": 47,
   "metadata": {},
   "outputs": [
    {
     "name": "stdout",
     "output_type": "stream",
     "text": [
      "20 10 10\n",
      "10\n"
     ]
    }
   ],
   "source": [
    "# 10817 세 수 (틀린 풀이)\n",
    "a, b, c = input().split()\n",
    "a = int(a)\n",
    "b = int(b)\n",
    "c = int(c)\n",
    "if a >= b :\n",
    "    if b >= c :\n",
    "        print(b)\n",
    "    elif b < c :\n",
    "        if a >= c:\n",
    "            print(c)\n",
    "        elif a < c :\n",
    "            print(a)\n",
    "elif a<b :\n",
    "    if a >= c :\n",
    "        print(a)\n",
    "    else : \n",
    "        print(c)\n",
    "## 어디서 틀린건지?"
   ]
  },
  {
   "cell_type": "code",
   "execution_count": 49,
   "metadata": {},
   "outputs": [
    {
     "name": "stdout",
     "output_type": "stream",
     "text": [
      "10 10 20 \n",
      "10\n"
     ]
    }
   ],
   "source": [
    "# 10817 세 수 (맞는 풀이)\n",
    "a, b, c = input().split()\n",
    "a = int(a)\n",
    "b = int(b)\n",
    "c = int(c)\n",
    "list_ = []\n",
    "list_.append(a)\n",
    "list_.append(b)\n",
    "list_.append(c)\n",
    "list_.sort()\n",
    "print(list_[1])"
   ]
  },
  {
   "cell_type": "code",
   "execution_count": 3,
   "metadata": {},
   "outputs": [
    {
     "name": "stdout",
     "output_type": "stream",
     "text": [
      "1 3 5\n",
      "3\n"
     ]
    }
   ],
   "source": [
    "print(sorted(list(map(int, input().split())))[1])"
   ]
  },
  {
   "cell_type": "code",
   "execution_count": null,
   "metadata": {},
   "outputs": [],
   "source": []
  }
 ],
 "metadata": {
  "kernelspec": {
   "display_name": "Python 3",
   "language": "python",
   "name": "python3"
  },
  "language_info": {
   "codemirror_mode": {
    "name": "ipython",
    "version": 3
   },
   "file_extension": ".py",
   "mimetype": "text/x-python",
   "name": "python",
   "nbconvert_exporter": "python",
   "pygments_lexer": "ipython3",
   "version": "3.7.3"
  }
 },
 "nbformat": 4,
 "nbformat_minor": 2
}
