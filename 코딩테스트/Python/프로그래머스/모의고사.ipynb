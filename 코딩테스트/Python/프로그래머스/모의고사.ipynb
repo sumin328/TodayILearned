{
 "cells": [
  {
   "cell_type": "markdown",
   "metadata": {},
   "source": [
    "# 모의고사"
   ]
  },
  {
   "cell_type": "markdown",
   "metadata": {},
   "source": [
    "### 수포자는 수학을 포기한 사람의 준말입니다. 수포자 삼인방은 모의고사에 수학 문제를 전부 찍으려 합니다. 수포자는 1번 문제부터 마지막 문제까지 다음과 같이 찍습니다.  \n",
    "  \n",
    "1번 수포자가 찍는 방식: 1, 2, 3, 4, 5, 1, 2, 3, 4, 5, ...   \n",
    "2번 수포자가 찍는 방식: 2, 1, 2, 3, 2, 4, 2, 5, 2, 1, 2, 3, 2, 4, 2, 5, ...  \n",
    "3번 수포자가 찍는 방식: 3, 3, 1, 1, 2, 2, 4, 4, 5, 5, 3, 3, 1, 1, 2, 2, 4, 4, 5, 5, ...  \n",
    "  \n",
    "1번 문제부터 마지막 문제까지의 정답이 순서대로 들은 배열 answers가 주어졌을 때,  가장 많은 문제를 맞힌 사람이 누구인지 배열에 담아 return 하도록 solution 함수를 작성해주세요.  \n",
    "  \n",
    "### 제한 조건  \n",
    "시험은 최대 10,000 문제로 구성되어있습니다.  \n",
    "문제의 정답은 1, 2, 3, 4, 5중 하나입니다.  \n",
    "가장 높은 점수를 받은 사람이 여럿일 경우, return하는 값을 오름차순 정렬해주세요.  "
   ]
  },
  {
   "cell_type": "markdown",
   "metadata": {},
   "source": [
    "---"
   ]
  },
  {
   "cell_type": "markdown",
   "metadata": {},
   "source": [
    "## 연습코드"
   ]
  },
  {
   "cell_type": "code",
   "execution_count": 184,
   "metadata": {},
   "outputs": [],
   "source": [
    "answers = [1,3,2,4,2]"
   ]
  },
  {
   "cell_type": "code",
   "execution_count": 185,
   "metadata": {},
   "outputs": [],
   "source": [
    "answer = []\n",
    "student = {}\n",
    "student[1] = [1,2,3,4,5]\n",
    "student[2] = [2,1,2,3,2,4,2,5]\n",
    "student[3] = [3,3,1,1,2,2,4,4,5,5]"
   ]
  },
  {
   "cell_type": "code",
   "execution_count": 186,
   "metadata": {},
   "outputs": [
    {
     "data": {
      "text/plain": [
       "{1: [1, 2, 3, 4, 5],\n",
       " 2: [2, 1, 2, 3, 2, 4, 2, 5],\n",
       " 3: [3, 3, 1, 1, 2, 2, 4, 4, 5, 5]}"
      ]
     },
     "execution_count": 186,
     "metadata": {},
     "output_type": "execute_result"
    }
   ],
   "source": [
    "student"
   ]
  },
  {
   "cell_type": "code",
   "execution_count": 187,
   "metadata": {},
   "outputs": [],
   "source": [
    "# 찍는 방식 리스트 최대 10,000 개로 늘리기\n",
    "for i in student:\n",
    "    n = 10000//len(student[i])\n",
    "    student[i] = student[i]*n"
   ]
  },
  {
   "cell_type": "code",
   "execution_count": 188,
   "metadata": {},
   "outputs": [],
   "source": [
    "# 학생 별 맞은 개수 cnt\n",
    "cnt = {}\n",
    "for stu, i in student.items(): \n",
    "    a_list = []\n",
    "    for ans in range(len(answers)): \n",
    "        if i[ans] == answers[ans]: \n",
    "            a_list.append(ans) \n",
    "    cnt[stu] = a_list"
   ]
  },
  {
   "cell_type": "code",
   "execution_count": 194,
   "metadata": {},
   "outputs": [
    {
     "data": {
      "text/plain": [
       "{1: [0, 3], 2: [2, 4], 3: [1, 4]}"
      ]
     },
     "execution_count": 194,
     "metadata": {},
     "output_type": "execute_result"
    }
   ],
   "source": [
    "cnt"
   ]
  },
  {
   "cell_type": "code",
   "execution_count": 224,
   "metadata": {},
   "outputs": [],
   "source": [
    "# 가장 많이 맞은 학생 maxstu\n",
    "answer = [1]\n",
    "for i in [2,3]:\n",
    "    if len(cnt[i]) > len(cnt[answer[0]]):\n",
    "        answer[0] = i\n",
    "    elif len(cnt[i]) == len(cnt[answer[0]]):\n",
    "        answer.append(i)\n"
   ]
  },
  {
   "cell_type": "code",
   "execution_count": 225,
   "metadata": {
    "scrolled": true
   },
   "outputs": [
    {
     "data": {
      "text/plain": [
       "[1, 2, 3]"
      ]
     },
     "execution_count": 225,
     "metadata": {},
     "output_type": "execute_result"
    }
   ],
   "source": [
    "answer"
   ]
  },
  {
   "cell_type": "markdown",
   "metadata": {},
   "source": [
    "## 정답"
   ]
  },
  {
   "cell_type": "code",
   "execution_count": 231,
   "metadata": {},
   "outputs": [],
   "source": [
    "def solution(answers):\n",
    "    student = {}\n",
    "    student[1] = [1,2,3,4,5]\n",
    "    student[2] = [2,1,2,3,2,4,2,5]\n",
    "    student[3] = [3,3,1,1,2,2,4,4,5,5]\n",
    "    \n",
    "    # 찍는 방식 리스트 최대 10,000 개로 늘리기\n",
    "    for i in student:\n",
    "        n = 10000//len(student[i])\n",
    "        student[i] = student[i]*n\n",
    "    \n",
    "    # 학생 별 맞은 개수 cnt\n",
    "    cnt = {}\n",
    "    for stu, i in student.items(): \n",
    "        a_list = []\n",
    "        for ans in range(len(answers)): \n",
    "            if i[ans] == answers[ans]: \n",
    "                a_list.append(ans) \n",
    "        cnt[stu] = a_list\n",
    "\n",
    "    # 가장 많이 맞은 학생 answer\n",
    "    answer = [1]\n",
    "    for i in [2,3]:\n",
    "        if len(cnt[i]) > len(cnt[answer[0]]):\n",
    "            answer[0] = i\n",
    "        elif len(cnt[i]) == len(cnt[answer[0]]):\n",
    "            answer.append(i)\n",
    "    \n",
    "    return answer"
   ]
  },
  {
   "cell_type": "code",
   "execution_count": 232,
   "metadata": {},
   "outputs": [
    {
     "data": {
      "text/plain": [
       "[1, 2, 3]"
      ]
     },
     "execution_count": 232,
     "metadata": {},
     "output_type": "execute_result"
    }
   ],
   "source": [
    "solution([1,3,2,4,2])"
   ]
  },
  {
   "cell_type": "code",
   "execution_count": null,
   "metadata": {},
   "outputs": [],
   "source": []
  }
 ],
 "metadata": {
  "kernelspec": {
   "display_name": "Python 3",
   "language": "python",
   "name": "python3"
  },
  "language_info": {
   "codemirror_mode": {
    "name": "ipython",
    "version": 3
   },
   "file_extension": ".py",
   "mimetype": "text/x-python",
   "name": "python",
   "nbconvert_exporter": "python",
   "pygments_lexer": "ipython3",
   "version": "3.7.3"
  }
 },
 "nbformat": 4,
 "nbformat_minor": 2
}
