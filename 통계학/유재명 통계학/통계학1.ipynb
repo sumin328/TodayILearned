{
 "cells": [
  {
   "cell_type": "markdown",
   "metadata": {},
   "source": [
    "# Anaconda\n",
    "\n",
    "- Python을 설치하는 방법\n",
    "- Jupyter도 설치됨\n",
    "\n",
    "# Jupyter \n",
    "\n",
    "- Python을 사용하는 방법\n"
   ]
  },
  {
   "cell_type": "code",
   "execution_count": 2,
   "metadata": {},
   "outputs": [],
   "source": [
    "import numpy"
   ]
  },
  {
   "cell_type": "code",
   "execution_count": 3,
   "metadata": {},
   "outputs": [],
   "source": [
    "x = [100,100,200,300,500, 500,700,700,800,900,900,1000]"
   ]
  },
  {
   "cell_type": "code",
   "execution_count": 4,
   "metadata": {},
   "outputs": [
    {
     "data": {
      "text/plain": [
       "558.3333333333334"
      ]
     },
     "execution_count": 4,
     "metadata": {},
     "output_type": "execute_result"
    }
   ],
   "source": [
    "numpy.mean(x) #평균"
   ]
  },
  {
   "cell_type": "code",
   "execution_count": 5,
   "metadata": {},
   "outputs": [
    {
     "data": {
      "text/plain": [
       "600.0"
      ]
     },
     "execution_count": 5,
     "metadata": {},
     "output_type": "execute_result"
    }
   ],
   "source": [
    "numpy.median(x) #중간값"
   ]
  },
  {
   "cell_type": "code",
   "execution_count": 6,
   "metadata": {},
   "outputs": [],
   "source": [
    "from scipy.stats import mode"
   ]
  },
  {
   "cell_type": "code",
   "execution_count": 7,
   "metadata": {},
   "outputs": [
    {
     "data": {
      "text/plain": [
       "ModeResult(mode=array([100]), count=array([2]))"
      ]
     },
     "execution_count": 7,
     "metadata": {},
     "output_type": "execute_result"
    }
   ],
   "source": [
    "mode(x) #최빈값"
   ]
  },
  {
   "cell_type": "code",
   "execution_count": 8,
   "metadata": {},
   "outputs": [],
   "source": [
    "# 최빈값이 여러개일 경우 작은 값을 반환함"
   ]
  },
  {
   "cell_type": "code",
   "execution_count": 9,
   "metadata": {},
   "outputs": [
    {
     "name": "stdout",
     "output_type": "stream",
     "text": [
      "Help on function mode in module scipy.stats.stats:\n",
      "\n",
      "mode(a, axis=0, nan_policy='propagate')\n",
      "    Return an array of the modal (most common) value in the passed array.\n",
      "    \n",
      "    If there is more than one such value, only the smallest is returned.\n",
      "    The bin-count for the modal bins is also returned.\n",
      "    \n",
      "    Parameters\n",
      "    ----------\n",
      "    a : array_like\n",
      "        n-dimensional array of which to find mode(s).\n",
      "    axis : int or None, optional\n",
      "        Axis along which to operate. Default is 0. If None, compute over\n",
      "        the whole array `a`.\n",
      "    nan_policy : {'propagate', 'raise', 'omit'}, optional\n",
      "        Defines how to handle when input contains nan. 'propagate' returns nan,\n",
      "        'raise' throws an error, 'omit' performs the calculations ignoring nan\n",
      "        values. Default is 'propagate'.\n",
      "    \n",
      "    Returns\n",
      "    -------\n",
      "    mode : ndarray\n",
      "        Array of modal values.\n",
      "    count : ndarray\n",
      "        Array of counts for each mode.\n",
      "    \n",
      "    Examples\n",
      "    --------\n",
      "    >>> a = np.array([[6, 8, 3, 0],\n",
      "    ...               [3, 2, 1, 7],\n",
      "    ...               [8, 1, 8, 4],\n",
      "    ...               [5, 3, 0, 5],\n",
      "    ...               [4, 7, 5, 9]])\n",
      "    >>> from scipy import stats\n",
      "    >>> stats.mode(a)\n",
      "    (array([[3, 1, 0, 0]]), array([[1, 1, 1, 1]]))\n",
      "    \n",
      "    To get mode of whole array, specify ``axis=None``:\n",
      "    \n",
      "    >>> stats.mode(a, axis=None)\n",
      "    (array([3]), array([3]))\n",
      "\n"
     ]
    }
   ],
   "source": [
    "help(mode)"
   ]
  },
  {
   "cell_type": "code",
   "execution_count": 10,
   "metadata": {},
   "outputs": [
    {
     "data": {
      "text/plain": [
       "1000"
      ]
     },
     "execution_count": 10,
     "metadata": {},
     "output_type": "execute_result"
    }
   ],
   "source": [
    "numpy.max(x)"
   ]
  },
  {
   "cell_type": "code",
   "execution_count": 11,
   "metadata": {},
   "outputs": [
    {
     "data": {
      "text/plain": [
       "100"
      ]
     },
     "execution_count": 11,
     "metadata": {},
     "output_type": "execute_result"
    }
   ],
   "source": [
    "numpy.min(x)"
   ]
  },
  {
   "cell_type": "code",
   "execution_count": 12,
   "metadata": {},
   "outputs": [
    {
     "data": {
      "text/plain": [
       "95763.88888888889"
      ]
     },
     "execution_count": 12,
     "metadata": {},
     "output_type": "execute_result"
    }
   ],
   "source": [
    "numpy.var(x) # 분산"
   ]
  },
  {
   "cell_type": "code",
   "execution_count": 13,
   "metadata": {},
   "outputs": [
    {
     "data": {
      "text/plain": [
       "309.45741046045237"
      ]
     },
     "execution_count": 13,
     "metadata": {},
     "output_type": "execute_result"
    }
   ],
   "source": [
    "numpy.std(x) # 표준편차"
   ]
  },
  {
   "cell_type": "code",
   "execution_count": 14,
   "metadata": {},
   "outputs": [
    {
     "data": {
      "text/plain": [
       "275.0"
      ]
     },
     "execution_count": 14,
     "metadata": {},
     "output_type": "execute_result"
    }
   ],
   "source": [
    "numpy.quantile(x, .25) # 1사분위수"
   ]
  },
  {
   "cell_type": "code",
   "execution_count": 15,
   "metadata": {},
   "outputs": [
    {
     "data": {
      "text/plain": [
       "600.0"
      ]
     },
     "execution_count": 15,
     "metadata": {},
     "output_type": "execute_result"
    }
   ],
   "source": [
    "numpy.quantile(x, .5) # 2사분위수"
   ]
  },
  {
   "cell_type": "code",
   "execution_count": 16,
   "metadata": {},
   "outputs": [
    {
     "data": {
      "text/plain": [
       "600.0"
      ]
     },
     "execution_count": 16,
     "metadata": {},
     "output_type": "execute_result"
    }
   ],
   "source": [
    "numpy.median(x) # 중간값 = 2사분위수"
   ]
  },
  {
   "cell_type": "code",
   "execution_count": 17,
   "metadata": {},
   "outputs": [
    {
     "data": {
      "text/plain": [
       "825.0"
      ]
     },
     "execution_count": 17,
     "metadata": {},
     "output_type": "execute_result"
    }
   ],
   "source": [
    "numpy.quantile(x, .75) # 3사분위수"
   ]
  },
  {
   "cell_type": "code",
   "execution_count": 18,
   "metadata": {},
   "outputs": [],
   "source": [
    "a = [0, 500, 500, 500, 1000]"
   ]
  },
  {
   "cell_type": "code",
   "execution_count": 19,
   "metadata": {},
   "outputs": [
    {
     "data": {
      "text/plain": [
       "500.0"
      ]
     },
     "execution_count": 19,
     "metadata": {},
     "output_type": "execute_result"
    }
   ],
   "source": [
    "numpy.quantile(a, .25)"
   ]
  },
  {
   "cell_type": "code",
   "execution_count": 20,
   "metadata": {},
   "outputs": [
    {
     "data": {
      "text/plain": [
       "500.0"
      ]
     },
     "execution_count": 20,
     "metadata": {},
     "output_type": "execute_result"
    }
   ],
   "source": [
    "numpy.quantile(a, .5)"
   ]
  },
  {
   "cell_type": "code",
   "execution_count": 21,
   "metadata": {},
   "outputs": [
    {
     "data": {
      "text/plain": [
       "500.0"
      ]
     },
     "execution_count": 21,
     "metadata": {},
     "output_type": "execute_result"
    }
   ],
   "source": [
    "numpy.quantile(a, .75)"
   ]
  },
  {
   "cell_type": "code",
   "execution_count": 22,
   "metadata": {},
   "outputs": [],
   "source": [
    "x = [0,0,0,0,0,0,0,0,0,100]"
   ]
  },
  {
   "cell_type": "markdown",
   "metadata": {},
   "source": [
    "## 이항분포"
   ]
  },
  {
   "cell_type": "code",
   "execution_count": 23,
   "metadata": {},
   "outputs": [],
   "source": [
    "from numpy.random import binomial"
   ]
  },
  {
   "cell_type": "code",
   "execution_count": 24,
   "metadata": {},
   "outputs": [
    {
     "name": "stdout",
     "output_type": "stream",
     "text": [
      "Help on built-in function binomial:\n",
      "\n",
      "binomial(...) method of mtrand.RandomState instance\n",
      "    binomial(n, p, size=None)\n",
      "    \n",
      "    Draw samples from a binomial distribution.\n",
      "    \n",
      "    Samples are drawn from a binomial distribution with specified\n",
      "    parameters, n trials and p probability of success where\n",
      "    n an integer >= 0 and p is in the interval [0,1]. (n may be\n",
      "    input as a float, but it is truncated to an integer in use)\n",
      "    \n",
      "    Parameters\n",
      "    ----------\n",
      "    n : int or array_like of ints\n",
      "        Parameter of the distribution, >= 0. Floats are also accepted,\n",
      "        but they will be truncated to integers.\n",
      "    p : float or array_like of floats\n",
      "        Parameter of the distribution, >= 0 and <=1.\n",
      "    size : int or tuple of ints, optional\n",
      "        Output shape.  If the given shape is, e.g., ``(m, n, k)``, then\n",
      "        ``m * n * k`` samples are drawn.  If size is ``None`` (default),\n",
      "        a single value is returned if ``n`` and ``p`` are both scalars.\n",
      "        Otherwise, ``np.broadcast(n, p).size`` samples are drawn.\n",
      "    \n",
      "    Returns\n",
      "    -------\n",
      "    out : ndarray or scalar\n",
      "        Drawn samples from the parameterized binomial distribution, where\n",
      "        each sample is equal to the number of successes over the n trials.\n",
      "    \n",
      "    See Also\n",
      "    --------\n",
      "    scipy.stats.binom : probability density function, distribution or\n",
      "        cumulative density function, etc.\n",
      "    \n",
      "    Notes\n",
      "    -----\n",
      "    The probability density for the binomial distribution is\n",
      "    \n",
      "    .. math:: P(N) = \\binom{n}{N}p^N(1-p)^{n-N},\n",
      "    \n",
      "    where :math:`n` is the number of trials, :math:`p` is the probability\n",
      "    of success, and :math:`N` is the number of successes.\n",
      "    \n",
      "    When estimating the standard error of a proportion in a population by\n",
      "    using a random sample, the normal distribution works well unless the\n",
      "    product p*n <=5, where p = population proportion estimate, and n =\n",
      "    number of samples, in which case the binomial distribution is used\n",
      "    instead. For example, a sample of 15 people shows 4 who are left\n",
      "    handed, and 11 who are right handed. Then p = 4/15 = 27%. 0.27*15 = 4,\n",
      "    so the binomial distribution should be used in this case.\n",
      "    \n",
      "    References\n",
      "    ----------\n",
      "    .. [1] Dalgaard, Peter, \"Introductory Statistics with R\",\n",
      "           Springer-Verlag, 2002.\n",
      "    .. [2] Glantz, Stanton A. \"Primer of Biostatistics.\", McGraw-Hill,\n",
      "           Fifth Edition, 2002.\n",
      "    .. [3] Lentner, Marvin, \"Elementary Applied Statistics\", Bogden\n",
      "           and Quigley, 1972.\n",
      "    .. [4] Weisstein, Eric W. \"Binomial Distribution.\" From MathWorld--A\n",
      "           Wolfram Web Resource.\n",
      "           http://mathworld.wolfram.com/BinomialDistribution.html\n",
      "    .. [5] Wikipedia, \"Binomial distribution\",\n",
      "           https://en.wikipedia.org/wiki/Binomial_distribution\n",
      "    \n",
      "    Examples\n",
      "    --------\n",
      "    Draw samples from the distribution:\n",
      "    \n",
      "    >>> n, p = 10, .5  # number of trials, probability of each trial\n",
      "    >>> s = np.random.binomial(n, p, 1000)\n",
      "    # result of flipping a coin 10 times, tested 1000 times.\n",
      "    \n",
      "    A real world example. A company drills 9 wild-cat oil exploration\n",
      "    wells, each with an estimated probability of success of 0.1. All nine\n",
      "    wells fail. What is the probability of that happening?\n",
      "    \n",
      "    Let's do 20,000 trials of the model, and count the number that\n",
      "    generate zero positive results.\n",
      "    \n",
      "    >>> sum(np.random.binomial(9, 0.1, 20000) == 0)/20000.\n",
      "    # answer = 0.38885, or 38%.\n",
      "\n"
     ]
    }
   ],
   "source": [
    "help(binomial)"
   ]
  },
  {
   "cell_type": "code",
   "execution_count": 25,
   "metadata": {},
   "outputs": [
    {
     "data": {
      "text/plain": [
       "31"
      ]
     },
     "execution_count": 25,
     "metadata": {},
     "output_type": "execute_result"
    }
   ],
   "source": [
    "binomial(100,.3)\n",
    "# n=100, p=.3"
   ]
  },
  {
   "cell_type": "code",
   "execution_count": 26,
   "metadata": {},
   "outputs": [
    {
     "data": {
      "text/plain": [
       "37"
      ]
     },
     "execution_count": 26,
     "metadata": {},
     "output_type": "execute_result"
    }
   ],
   "source": [
    "binomial(100,.3)\n",
    "# n=100, p=.3\n",
    "# 확률이 같다고 해도 항상 같은 값이 나오지 않음"
   ]
  },
  {
   "cell_type": "code",
   "execution_count": 27,
   "metadata": {},
   "outputs": [
    {
     "data": {
      "text/plain": [
       "array([31, 37, 27, 38, 25, 26, 32, 35, 23, 25, 35, 34, 31, 32, 28, 28, 41,\n",
       "       31, 35, 31, 37, 25, 35, 31, 35, 29, 28, 25, 26, 27])"
      ]
     },
     "execution_count": 27,
     "metadata": {},
     "output_type": "execute_result"
    }
   ],
   "source": [
    "binomial(100, .3, 30)\n",
    "# n=100, p=.3, 시뮬레이션 수=30"
   ]
  },
  {
   "cell_type": "code",
   "execution_count": 28,
   "metadata": {},
   "outputs": [],
   "source": [
    "x = binomial(100, .3, 30)"
   ]
  },
  {
   "cell_type": "code",
   "execution_count": 29,
   "metadata": {},
   "outputs": [
    {
     "data": {
      "text/plain": [
       "22"
      ]
     },
     "execution_count": 29,
     "metadata": {},
     "output_type": "execute_result"
    }
   ],
   "source": [
    "min(x)"
   ]
  },
  {
   "cell_type": "code",
   "execution_count": 30,
   "metadata": {},
   "outputs": [
    {
     "data": {
      "text/plain": [
       "37"
      ]
     },
     "execution_count": 30,
     "metadata": {},
     "output_type": "execute_result"
    }
   ],
   "source": [
    "max(x)"
   ]
  },
  {
   "cell_type": "code",
   "execution_count": 31,
   "metadata": {},
   "outputs": [
    {
     "data": {
      "text/plain": [
       "900000"
      ]
     },
     "execution_count": 31,
     "metadata": {},
     "output_type": "execute_result"
    }
   ],
   "source": [
    "수익 = 0\n",
    "준비 = 20\n",
    "for 고객수 in x:\n",
    "    if 고객수<=준비:\n",
    "        수익 = 수익 + (준비-고객수) * -10000\n",
    "        수익 = 수익 + 고객수 * 1000\n",
    "    else:\n",
    "        수익 = 수익 + 30 * 1000\n",
    "수익"
   ]
  },
  {
   "cell_type": "code",
   "execution_count": 32,
   "metadata": {},
   "outputs": [
    {
     "data": {
      "text/plain": [
       "20300.0"
      ]
     },
     "execution_count": 32,
     "metadata": {},
     "output_type": "execute_result"
    }
   ],
   "source": [
    "보험료 = 300\n",
    "지급액 = 1_000\n",
    "고객 = 지급액 / 10\n",
    "장사 = 100\n",
    "사망자 = binomial(고객, .1, 장사)\n",
    "매출 = 보험료 * 고객\n",
    "지급 = 지급액 * 사망자\n",
    "numpy.mean(매출 - 지급)"
   ]
  },
  {
   "cell_type": "markdown",
   "metadata": {},
   "source": [
    "## 기하분포"
   ]
  },
  {
   "cell_type": "code",
   "execution_count": 40,
   "metadata": {},
   "outputs": [
    {
     "data": {
      "text/plain": [
       "10"
      ]
     },
     "execution_count": 40,
     "metadata": {},
     "output_type": "execute_result"
    }
   ],
   "source": [
    "이탈성공 = 0\n",
    "기간 = 0\n",
    "while 이탈성공 == 0:\n",
    "    이탈성공 = binomial(1, .05)\n",
    "    기간 = 기간 + 1\n",
    "기간"
   ]
  },
  {
   "cell_type": "code",
   "execution_count": 41,
   "metadata": {},
   "outputs": [],
   "source": [
    "from numpy.random import geometric"
   ]
  },
  {
   "cell_type": "code",
   "execution_count": 42,
   "metadata": {},
   "outputs": [],
   "source": [
    "기간 = geometric(.05, 100)\n",
    "# 이탈률 5%일때 100명의 고객이 며칠 후 이탈할지"
   ]
  },
  {
   "cell_type": "code",
   "execution_count": 43,
   "metadata": {},
   "outputs": [
    {
     "data": {
      "text/plain": [
       "array([ 5. , 10.5, -2. , -6.5, -7. , -5. , -9. , 11. , -4.5, -5.5, -5.5,\n",
       "       -3.5, -2.5, -3.5, 58.5, 13.5, -3. , -5. , -4.5, -3. , -9.5, 11. ,\n",
       "       16.5, -7. , -9.5,  5.5, 16.5, 23.5,  9. , -4. ,  0.5, -4.5, -2. ,\n",
       "        7. , -2. , 16.5, 10.5, -2.5, -9. , -9.5,  9.5,  0. , -1. , -0.5,\n",
       "       -2.5, 11. , -9. ,  4. , -9.5, -7. , -5.5,  9. , -8.5, -1.5,  1.5,\n",
       "       -4. , -4. , -4. , -9.5,  3.5, 10.5,  6. , -9. , -2. ,  7. , 21. ,\n",
       "       23. , -5. , 16.5, -7.5,  8. , -3. , -7.5,  7. , -1. , -5. , -9. ,\n",
       "       29.5, -1. , -7. ,  1. , -2. , -6. , -4.5, -8. , -9.5, -6.5, -7. ,\n",
       "       -6. ,  4. , -9. , -8.5, -1.5, -9.5, 14.5, -0.5, -3.5, -5. , -8. ,\n",
       "        1.5])"
      ]
     },
     "execution_count": 43,
     "metadata": {},
     "output_type": "execute_result"
    }
   ],
   "source": [
    "기간 * 0.5 - 10\n",
    "# 기간 * 고객이 사용하는 비용 - 고객 획득 비용"
   ]
  },
  {
   "cell_type": "code",
   "execution_count": 44,
   "metadata": {},
   "outputs": [
    {
     "data": {
      "text/plain": [
       "55.0"
      ]
     },
     "execution_count": 44,
     "metadata": {},
     "output_type": "execute_result"
    }
   ],
   "source": [
    "numpy.sum(기간 * 0.5 - 10)"
   ]
  },
  {
   "cell_type": "markdown",
   "metadata": {},
   "source": [
    "## 음이항분포"
   ]
  },
  {
   "cell_type": "code",
   "execution_count": 53,
   "metadata": {},
   "outputs": [
    {
     "data": {
      "text/plain": [
       "34"
      ]
     },
     "execution_count": 53,
     "metadata": {},
     "output_type": "execute_result"
    }
   ],
   "source": [
    "짜증 = 0\n",
    "기간 = 0\n",
    "while 짜증 < 3:             # 3번째는 못 참는다\n",
    "    사건 = binomial(1, .05) # 5%의 확률로 사건 발생\n",
    "    if 사건 == 1:           # 사건이 일어나면\n",
    "        짜증 = 짜증 + 1      # 짜증이 증가\n",
    "    기간 = 기간 + 1\n",
    "기간"
   ]
  },
  {
   "cell_type": "code",
   "execution_count": 64,
   "metadata": {},
   "outputs": [],
   "source": [
    "# 세 번 짜증나게 하면 폭발"
   ]
  },
  {
   "cell_type": "code",
   "execution_count": 65,
   "metadata": {},
   "outputs": [],
   "source": [
    "폭발 = []\n",
    "for i in range(100):\n",
    "    짜증 = 0\n",
    "    기간 = 0\n",
    "    while 짜증 < 3:\n",
    "        사건 = binomial(1, .05)\n",
    "        if 사건 == 1:\n",
    "            짜증 = 짜증 + 1\n",
    "        기간 = 기간 + 1\n",
    "    폭발.append(기간)"
   ]
  },
  {
   "cell_type": "code",
   "execution_count": 55,
   "metadata": {
    "collapsed": true
   },
   "outputs": [
    {
     "data": {
      "text/plain": [
       "[81,\n",
       " 31,\n",
       " 12,\n",
       " 38,\n",
       " 25,\n",
       " 98,\n",
       " 37,\n",
       " 47,\n",
       " 15,\n",
       " 22,\n",
       " 41,\n",
       " 126,\n",
       " 112,\n",
       " 101,\n",
       " 36,\n",
       " 69,\n",
       " 37,\n",
       " 38,\n",
       " 86,\n",
       " 39,\n",
       " 44,\n",
       " 85,\n",
       " 68,\n",
       " 56,\n",
       " 51,\n",
       " 24,\n",
       " 13,\n",
       " 118,\n",
       " 36,\n",
       " 97,\n",
       " 33,\n",
       " 102,\n",
       " 79,\n",
       " 23,\n",
       " 69,\n",
       " 189,\n",
       " 63,\n",
       " 146,\n",
       " 23,\n",
       " 55,\n",
       " 39,\n",
       " 63,\n",
       " 79,\n",
       " 39,\n",
       " 44,\n",
       " 29,\n",
       " 30,\n",
       " 64,\n",
       " 55,\n",
       " 124,\n",
       " 71,\n",
       " 50,\n",
       " 32,\n",
       " 61,\n",
       " 33,\n",
       " 83,\n",
       " 57,\n",
       " 19,\n",
       " 112,\n",
       " 30,\n",
       " 22,\n",
       " 34,\n",
       " 65,\n",
       " 30,\n",
       " 95,\n",
       " 51,\n",
       " 47,\n",
       " 28,\n",
       " 58,\n",
       " 20,\n",
       " 53,\n",
       " 40,\n",
       " 68,\n",
       " 68,\n",
       " 87,\n",
       " 32,\n",
       " 15,\n",
       " 33,\n",
       " 53,\n",
       " 80,\n",
       " 57,\n",
       " 13,\n",
       " 20,\n",
       " 30,\n",
       " 45,\n",
       " 105,\n",
       " 117,\n",
       " 21,\n",
       " 99,\n",
       " 53,\n",
       " 46,\n",
       " 62,\n",
       " 58,\n",
       " 54,\n",
       " 57,\n",
       " 17,\n",
       " 18,\n",
       " 108,\n",
       " 22,\n",
       " 74]"
      ]
     },
     "execution_count": 55,
     "metadata": {},
     "output_type": "execute_result"
    }
   ],
   "source": [
    "폭발"
   ]
  },
  {
   "cell_type": "code",
   "execution_count": 51,
   "metadata": {},
   "outputs": [],
   "source": [
    "from numpy.random import negative_binomial"
   ]
  },
  {
   "cell_type": "code",
   "execution_count": 52,
   "metadata": {},
   "outputs": [
    {
     "data": {
      "text/plain": [
       "<function RandomState.negative_binomial>"
      ]
     },
     "execution_count": 52,
     "metadata": {},
     "output_type": "execute_result"
    }
   ],
   "source": [
    "negative_binomial"
   ]
  },
  {
   "cell_type": "code",
   "execution_count": 66,
   "metadata": {},
   "outputs": [],
   "source": [
    "# 이틀 연속으로 짜증나게 하면 폭발"
   ]
  },
  {
   "cell_type": "code",
   "execution_count": 61,
   "metadata": {},
   "outputs": [],
   "source": [
    "폭발 = []\n",
    "for i in range(100):\n",
    "    짜증 = 0\n",
    "    기간 = 0\n",
    "    while 짜증 <2:             # 2번 연속은 못 참는다\n",
    "        사건 = binomial(1, .1) # 화날 확률 10%\n",
    "        if 사건 == 1:          # 사건이 일어난다면\n",
    "            짜증 = 짜증 + 1     # 짜증 1 증가\n",
    "        else:\n",
    "            짜증 = 0\n",
    "        기간 = 기간 + 1\n",
    "    폭발.append(기간)"
   ]
  },
  {
   "cell_type": "code",
   "execution_count": 63,
   "metadata": {
    "collapsed": true
   },
   "outputs": [
    {
     "data": {
      "text/plain": [
       "[536,\n",
       " 747,\n",
       " 100,\n",
       " 85,\n",
       " 13,\n",
       " 392,\n",
       " 534,\n",
       " 1739,\n",
       " 830,\n",
       " 182,\n",
       " 497,\n",
       " 206,\n",
       " 331,\n",
       " 907,\n",
       " 133,\n",
       " 878,\n",
       " 173,\n",
       " 275,\n",
       " 481,\n",
       " 198,\n",
       " 17,\n",
       " 230,\n",
       " 45,\n",
       " 395,\n",
       " 457,\n",
       " 194,\n",
       " 173,\n",
       " 37,\n",
       " 79,\n",
       " 48,\n",
       " 220,\n",
       " 88,\n",
       " 470,\n",
       " 296,\n",
       " 298,\n",
       " 30,\n",
       " 1066,\n",
       " 459,\n",
       " 303,\n",
       " 867,\n",
       " 70,\n",
       " 139,\n",
       " 233,\n",
       " 372,\n",
       " 210,\n",
       " 352,\n",
       " 81,\n",
       " 165,\n",
       " 215,\n",
       " 481,\n",
       " 571,\n",
       " 643,\n",
       " 60,\n",
       " 87,\n",
       " 268,\n",
       " 73,\n",
       " 136,\n",
       " 324,\n",
       " 194,\n",
       " 749,\n",
       " 607,\n",
       " 388,\n",
       " 143,\n",
       " 776,\n",
       " 266,\n",
       " 908,\n",
       " 688,\n",
       " 297,\n",
       " 357,\n",
       " 327,\n",
       " 14,\n",
       " 63,\n",
       " 71,\n",
       " 153,\n",
       " 503,\n",
       " 230,\n",
       " 179,\n",
       " 1789,\n",
       " 458,\n",
       " 581,\n",
       " 241,\n",
       " 277,\n",
       " 315,\n",
       " 602,\n",
       " 394,\n",
       " 293,\n",
       " 309,\n",
       " 339,\n",
       " 1296,\n",
       " 1226,\n",
       " 1178,\n",
       " 299,\n",
       " 111,\n",
       " 75,\n",
       " 317,\n",
       " 1362,\n",
       " 773,\n",
       " 201,\n",
       " 731,\n",
       " 593]"
      ]
     },
     "execution_count": 63,
     "metadata": {},
     "output_type": "execute_result"
    }
   ],
   "source": [
    "폭발"
   ]
  },
  {
   "cell_type": "markdown",
   "metadata": {},
   "source": [
    "## 포아송 분포"
   ]
  },
  {
   "cell_type": "code",
   "execution_count": 67,
   "metadata": {},
   "outputs": [],
   "source": [
    "from numpy.random import poisson"
   ]
  },
  {
   "cell_type": "code",
   "execution_count": 93,
   "metadata": {},
   "outputs": [
    {
     "data": {
      "text/plain": [
       "array([10,  8, 12,  8,  8,  9,  6,  8,  8,  7, 16,  8, 11, 11, 11, 14, 11,\n",
       "        7,  9, 11,  9,  9,  5,  9,  8,  7,  8,  8,  7,  8, 10,  9,  9,  9,\n",
       "        6,  8, 11,  8,  7,  8,  9, 11, 14,  6, 10,  7, 11,  6,  9,  7])"
      ]
     },
     "execution_count": 93,
     "metadata": {},
     "output_type": "execute_result"
    }
   ],
   "source": [
    "binomial(100, .3, 50) # 100"
   ]
  },
  {
   "cell_type": "code",
   "execution_count": 95,
   "metadata": {
    "scrolled": true
   },
   "outputs": [
    {
     "data": {
      "text/plain": [
       "array([36, 29, 30, 32, 26, 29, 31, 33, 28, 35, 30, 32, 16, 26, 27, 28, 40,\n",
       "       27, 37, 33, 33, 31, 24, 25, 30, 20, 40, 25, 24, 31])"
      ]
     },
     "execution_count": 95,
     "metadata": {},
     "output_type": "execute_result"
    }
   ],
   "source": [
    "poisson(30, 50) # 하루 평균 30명 방문할 때 50일간 방문인원 수\n",
    "# 총 인원 (최대 인원)이 정해져 있지 않음"
   ]
  },
  {
   "cell_type": "code",
   "execution_count": null,
   "metadata": {},
   "outputs": [],
   "source": []
  }
 ],
 "metadata": {
  "kernelspec": {
   "display_name": "Python 3",
   "language": "python",
   "name": "python3"
  },
  "language_info": {
   "codemirror_mode": {
    "name": "ipython",
    "version": 3
   },
   "file_extension": ".py",
   "mimetype": "text/x-python",
   "name": "python",
   "nbconvert_exporter": "python",
   "pygments_lexer": "ipython3",
   "version": "3.7.3"
  }
 },
 "nbformat": 4,
 "nbformat_minor": 2
}
