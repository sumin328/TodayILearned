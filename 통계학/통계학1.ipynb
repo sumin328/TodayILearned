{
 "cells": [
  {
   "cell_type": "markdown",
   "metadata": {},
   "source": [
    "# Anaconda\n",
    "\n",
    "- Python을 설치하는 방법\n",
    "- Jupyter도 설치됨\n",
    "\n",
    "# Jupyter \n",
    "\n",
    "- Python을 사용하는 방법\n"
   ]
  },
  {
   "cell_type": "code",
   "execution_count": 43,
   "metadata": {},
   "outputs": [],
   "source": [
    "import numpy"
   ]
  },
  {
   "cell_type": "code",
   "execution_count": 15,
   "metadata": {},
   "outputs": [],
   "source": [
    "x = [100,100,200,300,500, 500,700,700,800,900,900,1000]"
   ]
  },
  {
   "cell_type": "code",
   "execution_count": 16,
   "metadata": {},
   "outputs": [
    {
     "data": {
      "text/plain": [
       "558.3333333333334"
      ]
     },
     "execution_count": 16,
     "metadata": {},
     "output_type": "execute_result"
    }
   ],
   "source": [
    "numpy.mean(x) #평균"
   ]
  },
  {
   "cell_type": "code",
   "execution_count": 17,
   "metadata": {},
   "outputs": [
    {
     "data": {
      "text/plain": [
       "600.0"
      ]
     },
     "execution_count": 17,
     "metadata": {},
     "output_type": "execute_result"
    }
   ],
   "source": [
    "numpy.median(x) #중간값"
   ]
  },
  {
   "cell_type": "code",
   "execution_count": 18,
   "metadata": {},
   "outputs": [],
   "source": [
    "from scipy.stats import mode"
   ]
  },
  {
   "cell_type": "code",
   "execution_count": 19,
   "metadata": {},
   "outputs": [
    {
     "data": {
      "text/plain": [
       "ModeResult(mode=array([100]), count=array([2]))"
      ]
     },
     "execution_count": 19,
     "metadata": {},
     "output_type": "execute_result"
    }
   ],
   "source": [
    "mode(x) #최빈값"
   ]
  },
  {
   "cell_type": "code",
   "execution_count": 20,
   "metadata": {},
   "outputs": [],
   "source": [
    "# 최빈값이 여러개일 경우 작은 값을 반환함"
   ]
  },
  {
   "cell_type": "code",
   "execution_count": 21,
   "metadata": {},
   "outputs": [
    {
     "name": "stdout",
     "output_type": "stream",
     "text": [
      "Help on function mode in module scipy.stats.stats:\n",
      "\n",
      "mode(a, axis=0, nan_policy='propagate')\n",
      "    Return an array of the modal (most common) value in the passed array.\n",
      "    \n",
      "    If there is more than one such value, only the smallest is returned.\n",
      "    The bin-count for the modal bins is also returned.\n",
      "    \n",
      "    Parameters\n",
      "    ----------\n",
      "    a : array_like\n",
      "        n-dimensional array of which to find mode(s).\n",
      "    axis : int or None, optional\n",
      "        Axis along which to operate. Default is 0. If None, compute over\n",
      "        the whole array `a`.\n",
      "    nan_policy : {'propagate', 'raise', 'omit'}, optional\n",
      "        Defines how to handle when input contains nan. 'propagate' returns nan,\n",
      "        'raise' throws an error, 'omit' performs the calculations ignoring nan\n",
      "        values. Default is 'propagate'.\n",
      "    \n",
      "    Returns\n",
      "    -------\n",
      "    mode : ndarray\n",
      "        Array of modal values.\n",
      "    count : ndarray\n",
      "        Array of counts for each mode.\n",
      "    \n",
      "    Examples\n",
      "    --------\n",
      "    >>> a = np.array([[6, 8, 3, 0],\n",
      "    ...               [3, 2, 1, 7],\n",
      "    ...               [8, 1, 8, 4],\n",
      "    ...               [5, 3, 0, 5],\n",
      "    ...               [4, 7, 5, 9]])\n",
      "    >>> from scipy import stats\n",
      "    >>> stats.mode(a)\n",
      "    (array([[3, 1, 0, 0]]), array([[1, 1, 1, 1]]))\n",
      "    \n",
      "    To get mode of whole array, specify ``axis=None``:\n",
      "    \n",
      "    >>> stats.mode(a, axis=None)\n",
      "    (array([3]), array([3]))\n",
      "\n"
     ]
    }
   ],
   "source": [
    "help(mode)"
   ]
  },
  {
   "cell_type": "code",
   "execution_count": 22,
   "metadata": {},
   "outputs": [
    {
     "data": {
      "text/plain": [
       "1000"
      ]
     },
     "execution_count": 22,
     "metadata": {},
     "output_type": "execute_result"
    }
   ],
   "source": [
    "numpy.max(x)"
   ]
  },
  {
   "cell_type": "code",
   "execution_count": 23,
   "metadata": {},
   "outputs": [
    {
     "data": {
      "text/plain": [
       "100"
      ]
     },
     "execution_count": 23,
     "metadata": {},
     "output_type": "execute_result"
    }
   ],
   "source": [
    "numpy.min(x)"
   ]
  },
  {
   "cell_type": "code",
   "execution_count": 24,
   "metadata": {},
   "outputs": [
    {
     "data": {
      "text/plain": [
       "95763.88888888889"
      ]
     },
     "execution_count": 24,
     "metadata": {},
     "output_type": "execute_result"
    }
   ],
   "source": [
    "numpy.var(x) # 분산"
   ]
  },
  {
   "cell_type": "code",
   "execution_count": 25,
   "metadata": {},
   "outputs": [
    {
     "data": {
      "text/plain": [
       "309.45741046045237"
      ]
     },
     "execution_count": 25,
     "metadata": {},
     "output_type": "execute_result"
    }
   ],
   "source": [
    "numpy.std(x) # 표준편차"
   ]
  },
  {
   "cell_type": "code",
   "execution_count": 27,
   "metadata": {},
   "outputs": [
    {
     "data": {
      "text/plain": [
       "275.0"
      ]
     },
     "execution_count": 27,
     "metadata": {},
     "output_type": "execute_result"
    }
   ],
   "source": [
    "numpy.quantile(x, .25) # 1사분위수"
   ]
  },
  {
   "cell_type": "code",
   "execution_count": 33,
   "metadata": {},
   "outputs": [
    {
     "data": {
      "text/plain": [
       "600.0"
      ]
     },
     "execution_count": 33,
     "metadata": {},
     "output_type": "execute_result"
    }
   ],
   "source": [
    "numpy.quantile(x, .5) # 2사분위수"
   ]
  },
  {
   "cell_type": "code",
   "execution_count": 35,
   "metadata": {},
   "outputs": [
    {
     "data": {
      "text/plain": [
       "600.0"
      ]
     },
     "execution_count": 35,
     "metadata": {},
     "output_type": "execute_result"
    }
   ],
   "source": [
    "numpy.median(x) # 중간값 = 2사분위수"
   ]
  },
  {
   "cell_type": "code",
   "execution_count": 36,
   "metadata": {},
   "outputs": [
    {
     "data": {
      "text/plain": [
       "825.0"
      ]
     },
     "execution_count": 36,
     "metadata": {},
     "output_type": "execute_result"
    }
   ],
   "source": [
    "numpy.quantile(x, .75) # 3사분위수"
   ]
  },
  {
   "cell_type": "code",
   "execution_count": 37,
   "metadata": {},
   "outputs": [],
   "source": [
    "a = [0, 500, 500, 500, 1000]"
   ]
  },
  {
   "cell_type": "code",
   "execution_count": 40,
   "metadata": {},
   "outputs": [
    {
     "data": {
      "text/plain": [
       "500.0"
      ]
     },
     "execution_count": 40,
     "metadata": {},
     "output_type": "execute_result"
    }
   ],
   "source": [
    "numpy.quantile(a, .25)"
   ]
  },
  {
   "cell_type": "code",
   "execution_count": 41,
   "metadata": {},
   "outputs": [
    {
     "data": {
      "text/plain": [
       "500.0"
      ]
     },
     "execution_count": 41,
     "metadata": {},
     "output_type": "execute_result"
    }
   ],
   "source": [
    "numpy.quantile(a, .5)"
   ]
  },
  {
   "cell_type": "code",
   "execution_count": 42,
   "metadata": {},
   "outputs": [
    {
     "data": {
      "text/plain": [
       "500.0"
      ]
     },
     "execution_count": 42,
     "metadata": {},
     "output_type": "execute_result"
    }
   ],
   "source": [
    "numpy.quantile(a, .75)"
   ]
  },
  {
   "cell_type": "code",
   "execution_count": 1,
   "metadata": {},
   "outputs": [],
   "source": [
    "x = [0,0,0,0,0,0,0,0,0,100]"
   ]
  },
  {
   "cell_type": "code",
   "execution_count": 4,
   "metadata": {},
   "outputs": [],
   "source": [
    "from numpy.random import binomial"
   ]
  },
  {
   "cell_type": "code",
   "execution_count": 5,
   "metadata": {},
   "outputs": [
    {
     "name": "stdout",
     "output_type": "stream",
     "text": [
      "Help on built-in function binomial:\n",
      "\n",
      "binomial(...) method of mtrand.RandomState instance\n",
      "    binomial(n, p, size=None)\n",
      "    \n",
      "    Draw samples from a binomial distribution.\n",
      "    \n",
      "    Samples are drawn from a binomial distribution with specified\n",
      "    parameters, n trials and p probability of success where\n",
      "    n an integer >= 0 and p is in the interval [0,1]. (n may be\n",
      "    input as a float, but it is truncated to an integer in use)\n",
      "    \n",
      "    Parameters\n",
      "    ----------\n",
      "    n : int or array_like of ints\n",
      "        Parameter of the distribution, >= 0. Floats are also accepted,\n",
      "        but they will be truncated to integers.\n",
      "    p : float or array_like of floats\n",
      "        Parameter of the distribution, >= 0 and <=1.\n",
      "    size : int or tuple of ints, optional\n",
      "        Output shape.  If the given shape is, e.g., ``(m, n, k)``, then\n",
      "        ``m * n * k`` samples are drawn.  If size is ``None`` (default),\n",
      "        a single value is returned if ``n`` and ``p`` are both scalars.\n",
      "        Otherwise, ``np.broadcast(n, p).size`` samples are drawn.\n",
      "    \n",
      "    Returns\n",
      "    -------\n",
      "    out : ndarray or scalar\n",
      "        Drawn samples from the parameterized binomial distribution, where\n",
      "        each sample is equal to the number of successes over the n trials.\n",
      "    \n",
      "    See Also\n",
      "    --------\n",
      "    scipy.stats.binom : probability density function, distribution or\n",
      "        cumulative density function, etc.\n",
      "    \n",
      "    Notes\n",
      "    -----\n",
      "    The probability density for the binomial distribution is\n",
      "    \n",
      "    .. math:: P(N) = \\binom{n}{N}p^N(1-p)^{n-N},\n",
      "    \n",
      "    where :math:`n` is the number of trials, :math:`p` is the probability\n",
      "    of success, and :math:`N` is the number of successes.\n",
      "    \n",
      "    When estimating the standard error of a proportion in a population by\n",
      "    using a random sample, the normal distribution works well unless the\n",
      "    product p*n <=5, where p = population proportion estimate, and n =\n",
      "    number of samples, in which case the binomial distribution is used\n",
      "    instead. For example, a sample of 15 people shows 4 who are left\n",
      "    handed, and 11 who are right handed. Then p = 4/15 = 27%. 0.27*15 = 4,\n",
      "    so the binomial distribution should be used in this case.\n",
      "    \n",
      "    References\n",
      "    ----------\n",
      "    .. [1] Dalgaard, Peter, \"Introductory Statistics with R\",\n",
      "           Springer-Verlag, 2002.\n",
      "    .. [2] Glantz, Stanton A. \"Primer of Biostatistics.\", McGraw-Hill,\n",
      "           Fifth Edition, 2002.\n",
      "    .. [3] Lentner, Marvin, \"Elementary Applied Statistics\", Bogden\n",
      "           and Quigley, 1972.\n",
      "    .. [4] Weisstein, Eric W. \"Binomial Distribution.\" From MathWorld--A\n",
      "           Wolfram Web Resource.\n",
      "           http://mathworld.wolfram.com/BinomialDistribution.html\n",
      "    .. [5] Wikipedia, \"Binomial distribution\",\n",
      "           https://en.wikipedia.org/wiki/Binomial_distribution\n",
      "    \n",
      "    Examples\n",
      "    --------\n",
      "    Draw samples from the distribution:\n",
      "    \n",
      "    >>> n, p = 10, .5  # number of trials, probability of each trial\n",
      "    >>> s = np.random.binomial(n, p, 1000)\n",
      "    # result of flipping a coin 10 times, tested 1000 times.\n",
      "    \n",
      "    A real world example. A company drills 9 wild-cat oil exploration\n",
      "    wells, each with an estimated probability of success of 0.1. All nine\n",
      "    wells fail. What is the probability of that happening?\n",
      "    \n",
      "    Let's do 20,000 trials of the model, and count the number that\n",
      "    generate zero positive results.\n",
      "    \n",
      "    >>> sum(np.random.binomial(9, 0.1, 20000) == 0)/20000.\n",
      "    # answer = 0.38885, or 38%.\n",
      "\n"
     ]
    }
   ],
   "source": [
    "help(binomial)"
   ]
  },
  {
   "cell_type": "code",
   "execution_count": 7,
   "metadata": {},
   "outputs": [
    {
     "data": {
      "text/plain": [
       "33"
      ]
     },
     "execution_count": 7,
     "metadata": {},
     "output_type": "execute_result"
    }
   ],
   "source": [
    "binomial(100,.3)\n",
    "# n=100, p=.3"
   ]
  },
  {
   "cell_type": "code",
   "execution_count": 9,
   "metadata": {},
   "outputs": [
    {
     "data": {
      "text/plain": [
       "36"
      ]
     },
     "execution_count": 9,
     "metadata": {},
     "output_type": "execute_result"
    }
   ],
   "source": [
    "binomial(100,.3)\n",
    "# n=100, p=.3\n",
    "# 확률이 같다고 해도 항상 같은 값이 나오지 않음"
   ]
  },
  {
   "cell_type": "code",
   "execution_count": 11,
   "metadata": {},
   "outputs": [
    {
     "data": {
      "text/plain": [
       "array([23, 32, 26, 31, 30, 25, 30, 33, 30, 42, 26, 34, 34, 23, 26, 38, 32,\n",
       "       22, 34, 31, 29, 32, 37, 22, 26, 35, 23, 39, 30, 30])"
      ]
     },
     "execution_count": 11,
     "metadata": {},
     "output_type": "execute_result"
    }
   ],
   "source": [
    "binomial(100, .3, 30)\n",
    "# n=100, p=.3, 시뮬레이션 수=30"
   ]
  },
  {
   "cell_type": "code",
   "execution_count": 12,
   "metadata": {},
   "outputs": [],
   "source": [
    "x = binomial(100, .3, 30)"
   ]
  },
  {
   "cell_type": "code",
   "execution_count": 13,
   "metadata": {},
   "outputs": [
    {
     "data": {
      "text/plain": [
       "17"
      ]
     },
     "execution_count": 13,
     "metadata": {},
     "output_type": "execute_result"
    }
   ],
   "source": [
    "min(x)"
   ]
  },
  {
   "cell_type": "code",
   "execution_count": 14,
   "metadata": {},
   "outputs": [
    {
     "data": {
      "text/plain": [
       "38"
      ]
     },
     "execution_count": 14,
     "metadata": {},
     "output_type": "execute_result"
    }
   ],
   "source": [
    "max(x)"
   ]
  },
  {
   "cell_type": "code",
   "execution_count": 29,
   "metadata": {},
   "outputs": [
    {
     "data": {
      "text/plain": [
       "857000"
      ]
     },
     "execution_count": 29,
     "metadata": {},
     "output_type": "execute_result"
    }
   ],
   "source": [
    "수익 = 0\n",
    "준비 = 20\n",
    "for 고객수 in x:\n",
    "    if 고객수<=준비:\n",
    "        수익 = 수익 + (준비-고객수) * -10000\n",
    "        수익 = 수익 + 고객수 * 1000\n",
    "    else:\n",
    "        수익 = 수익 + 30 * 1000\n",
    "수익"
   ]
  },
  {
   "cell_type": "code",
   "execution_count": 48,
   "metadata": {},
   "outputs": [
    {
     "data": {
      "text/plain": [
       "20350.0"
      ]
     },
     "execution_count": 48,
     "metadata": {},
     "output_type": "execute_result"
    }
   ],
   "source": [
    "보험료 = 300\n",
    "지급액 = 1_000\n",
    "고객 = 지급액 / 10\n",
    "장사 = 100\n",
    "사망자 = binomial(고객, .1, 장사)\n",
    "매출 = 보험료 * 고객\n",
    "지급 = 지급액 * 사망자\n",
    "numpy.mean(매출 - 지급)"
   ]
  },
  {
   "cell_type": "code",
   "execution_count": 74,
   "metadata": {},
   "outputs": [
    {
     "data": {
      "text/plain": [
       "28"
      ]
     },
     "execution_count": 74,
     "metadata": {},
     "output_type": "execute_result"
    }
   ],
   "source": [
    "이탈성공 = 0\n",
    "기간 = 0\n",
    "while 이탈성공 == 0:\n",
    "    이탈성공 = binomial(1, .05)\n",
    "    기간 = 기간 + 1\n",
    "기간"
   ]
  },
  {
   "cell_type": "code",
   "execution_count": 75,
   "metadata": {},
   "outputs": [],
   "source": [
    "from numpy.random import geometric"
   ]
  },
  {
   "cell_type": "code",
   "execution_count": 78,
   "metadata": {},
   "outputs": [],
   "source": [
    "기간 = geometric(.05, 100)\n",
    "# 이탈률 5%일때 100명의 고객이 며칠 후 이탈할지"
   ]
  },
  {
   "cell_type": "code",
   "execution_count": 86,
   "metadata": {},
   "outputs": [
    {
     "data": {
      "text/plain": [
       "array([19.5, 28.5, 13. , -6.5,  1.5, -7. , -5. , -9.5, -2.5, -3.5, 13. ,\n",
       "        4. , -8.5,  6.5, -3. , -7. , -9. , 17.5,  3.5, -1. , 16.5, -2.5,\n",
       "       -6.5,  9. , -8. , -5. ,  0. ,  3. , -7.5, -8. , 11. ,  0.5, -5. ,\n",
       "       -9. ,  1. , -4.5, -1. , -4.5,  4. , 26. , -7. ,  2. , -3.5, -4. ,\n",
       "       -3. , -7. , -1. , -8. , -8.5, -5.5, -8. , -3. , -1.5, 10. , 22. ,\n",
       "       -9. ,  5. ,  5. , -3. , -1.5, -6.5, -9. , -7. , -5. , -1. ,  7. ,\n",
       "       -4. , -7. ,  8.5, -2. ,  3. , 43. , -8. ,  3.5, 29.5, -9.5, 15. ,\n",
       "       -8. , 36.5, -2.5, -3.5,  8. , -9.5, -4. ,  9. , -8.5, -9. , -5.5,\n",
       "        6.5, 18. , -8.5,  4.5, -4.5, -5.5, -7.5, -6.5,  0.5, -7.5,  4. ,\n",
       "       -1.5])"
      ]
     },
     "execution_count": 86,
     "metadata": {},
     "output_type": "execute_result"
    }
   ],
   "source": [
    "기간 * 0.5 - 10\n",
    "# 기간 * 고객이 사용하는 비용 - 고객 획득 비용"
   ]
  },
  {
   "cell_type": "code",
   "execution_count": 87,
   "metadata": {},
   "outputs": [
    {
     "data": {
      "text/plain": [
       "70.0"
      ]
     },
     "execution_count": 87,
     "metadata": {},
     "output_type": "execute_result"
    }
   ],
   "source": [
    "numpy.sum(기간 * 0.5 - 10)"
   ]
  },
  {
   "cell_type": "code",
   "execution_count": null,
   "metadata": {},
   "outputs": [],
   "source": []
  }
 ],
 "metadata": {
  "kernelspec": {
   "display_name": "Python 3",
   "language": "python",
   "name": "python3"
  },
  "language_info": {
   "codemirror_mode": {
    "name": "ipython",
    "version": 3
   },
   "file_extension": ".py",
   "mimetype": "text/x-python",
   "name": "python",
   "nbconvert_exporter": "python",
   "pygments_lexer": "ipython3",
   "version": "3.7.3"
  }
 },
 "nbformat": 4,
 "nbformat_minor": 2
}
